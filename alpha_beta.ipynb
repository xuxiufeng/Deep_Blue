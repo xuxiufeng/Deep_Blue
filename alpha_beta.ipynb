{
  "nbformat": 4,
  "nbformat_minor": 0,
  "metadata": {
    "colab": {
      "name": "alpha_beta.ipynb",
      "provenance": [],
      "authorship_tag": "ABX9TyNPlOwIZTq1Ea6ZGMr3DXa4",
      "include_colab_link": true
    },
    "kernelspec": {
      "name": "python3",
      "display_name": "Python 3"
    },
    "language_info": {
      "name": "python"
    }
  },
  "cells": [
    {
      "cell_type": "markdown",
      "metadata": {
        "id": "view-in-github",
        "colab_type": "text"
      },
      "source": [
        "<a href=\"https://colab.research.google.com/github/xuxiufeng/Deep_Blue/blob/main/alpha_beta.ipynb\" target=\"_parent\"><img src=\"https://colab.research.google.com/assets/colab-badge.svg\" alt=\"Open In Colab\"/></a>"
      ]
    },
    {
      "cell_type": "code",
      "execution_count": 1,
      "metadata": {
        "id": "P1fQX-rkfh6Z"
      },
      "outputs": [],
      "source": [
        "import chess"
      ]
    },
    {
      "cell_type": "code",
      "source": [
        "# P = 100\n",
        "# N = 310\n",
        "# B = 320\n",
        "# R = 500\n",
        "# Q = 900\n",
        "\n",
        "# position table\n",
        "pieceSquareTable = [\n",
        "  [ -50,-40,-30,-30,-30,-30,-40,-50 ],\n",
        "  [ -40,-20,  0,  0,  0,  0,-20,-40 ],\n",
        "  [ -30,  0, 10, 15, 15, 10,  0,-30 ],\n",
        "  [ -30,  5, 15, 20, 20, 15,  5,-30 ],\n",
        "  [ -30,  0, 15, 20, 20, 15,  0,-30 ],\n",
        "  [ -30,  5, 10, 15, 15, 10,  5,-30 ],\n",
        "  [ -40,-20,  0,  5,  5,  0,-20,-40 ],\n",
        "  [ -50,-40,-30,-30,-30,-30,-40,-50 ] ]"
      ],
      "metadata": {
        "id": "0WU4F3o6fkAs"
      },
      "execution_count": 2,
      "outputs": []
    },
    {
      "cell_type": "code",
      "source": [
        "def eval(board):\n",
        "    scoreWhite = 0\n",
        "    scoreBlack = 0\n",
        "    for i in range(0,8):\n",
        "        for j in range(0,8):\n",
        "            squareIJ = chess.square(i,j)\n",
        "            pieceIJ = board.piece_at(squareIJ)\n",
        "            if str(pieceIJ) == \"P\":\n",
        "                scoreWhite += (100 + pieceSquareTable[i][j])\n",
        "            if str(pieceIJ) == \"N\":\n",
        "                scoreWhite += (310 + pieceSquareTable[i][j])\n",
        "            if str(pieceIJ) == \"B\":\n",
        "                scoreWhite += (320 + pieceSquareTable[i][j])\n",
        "            if str(pieceIJ) == \"R\":\n",
        "                scoreWhite += (500 + pieceSquareTable[i][j])\n",
        "            if str(pieceIJ) == \"Q\":\n",
        "                scoreWhite += (900 + pieceSquareTable[i][j])\n",
        "            if str(pieceIJ) == \"p\":\n",
        "                scoreBlack += (100 + pieceSquareTable[i][j])\n",
        "            if str(pieceIJ) == \"n\":\n",
        "                scoreBlack += (310 + pieceSquareTable[i][j])\n",
        "            if str(pieceIJ) == \"b\":\n",
        "                scoreBlack += (320 + pieceSquareTable[i][j])\n",
        "            if str(pieceIJ) == \"r\":\n",
        "                scoreBlack += (500 + pieceSquareTable[i][j])\n",
        "            if str(pieceIJ) == \"q\":\n",
        "                scoreBlack += (900 + pieceSquareTable[i][j])\n",
        "    return scoreWhite - scoreBlack\n",
        "\n",
        "\"\"\"\n",
        "function alphabeta(node, depth, α, β, maximizingPlayer) is\n",
        "    if depth = 0 or node is a terminal node then\n",
        "        return the heuristic value of node\n",
        "    if maximizingPlayer then\n",
        "        value := −∞\n",
        "        for each child of node do\n",
        "            value := max(value, alphabeta(child, depth − 1, α, β, FALSE))\n",
        "            α := max(α, value)\n",
        "            if α ≥ β then\n",
        "                break (* β cutoff *)\n",
        "        return value\n",
        "    else\n",
        "        value := +∞\n",
        "        for each child of node do\n",
        "            value := min(value, alphabeta(child, depth − 1, α, β, TRUE))\n",
        "            β := min(β, value)\n",
        "            if β ≤ α then\n",
        "                break (* α cutoff *)\n",
        "        return value\n",
        "\"\"\""
      ],
      "metadata": {
        "colab": {
          "base_uri": "https://localhost:8080/",
          "height": 105
        },
        "id": "Gm9jiaEBfkOr",
        "outputId": "cfd60815-fea6-4c97-e985-ad3f8dd7680f"
      },
      "execution_count": 3,
      "outputs": [
        {
          "output_type": "execute_result",
          "data": {
            "application/vnd.google.colaboratory.intrinsic+json": {
              "type": "string"
            },
            "text/plain": [
              "'\\nfunction alphabeta(node, depth, α, β, maximizingPlayer) is\\n    if depth = 0 or node is a terminal node then\\n        return the heuristic value of node\\n    if maximizingPlayer then\\n        value := −∞\\n        for each child of node do\\n            value := max(value, alphabeta(child, depth − 1, α, β, FALSE))\\n            α := max(α, value)\\n            if α ≥ β then\\n                break (* β cutoff *)\\n        return value\\n    else\\n        value := +∞\\n        for each child of node do\\n            value := min(value, alphabeta(child, depth − 1, α, β, TRUE))\\n            β := min(β, value)\\n            if β ≤ α then\\n                break (* α cutoff *)\\n        return value\\n'"
            ]
          },
          "metadata": {},
          "execution_count": 3
        }
      ]
    },
    {
      "cell_type": "code",
      "source": [
        "NODECOUNT = 0\n",
        "\n",
        "def alphaBeta(board, depth, alpha, beta, maximize):\n",
        "    global NODECOUNT\n",
        "    if(board.is_checkmate()):\n",
        "        if(board.turn == chess.WHITE):\n",
        "            return -100000\n",
        "        else:\n",
        "            return 1000000\n",
        "    if depth == 0:\n",
        "        return eval(board)\n",
        "    legals = board.legal_moves\n",
        "    if(maximize):\n",
        "        bestVal = -9999\n",
        "        for move in legals:\n",
        "            board.push(move)\n",
        "            NODECOUNT += 1\n",
        "            bestVal = max(bestVal, alphaBeta(board, depth-1, alpha, beta, (not maximize)))\n",
        "            board.pop()\n",
        "            alpha = max(alpha, bestVal)\n",
        "            if alpha >= beta:\n",
        "                return bestVal\n",
        "        return bestVal\n",
        "    else:\n",
        "        bestVal = 9999\n",
        "        for move in legals:\n",
        "            board.push(move)\n",
        "            NODECOUNT += 1\n",
        "            bestVal = min(bestVal, alphaBeta(board, depth - 1, alpha, beta, (not maximize)))\n",
        "            board.pop()\n",
        "            beta = min(beta, bestVal)\n",
        "            if beta <= alpha:\n",
        "                return bestVal\n",
        "        return bestVal"
      ],
      "metadata": {
        "id": "LBk_iw9EfkR-"
      },
      "execution_count": 4,
      "outputs": []
    },
    {
      "cell_type": "code",
      "source": [
        "def getNextMove(depth, board, maximize):\n",
        "\n",
        "    legals = board.legal_moves\n",
        "    bestMove = None\n",
        "    bestValue = -9999\n",
        "    if(not maximize):\n",
        "        bestValue = 9999\n",
        "    for move in legals:\n",
        "        board.push(move)\n",
        "        value = alphaBeta(board, depth-1, -10000, 10000, (not maximize))\n",
        "        board.pop()\n",
        "        if maximize:\n",
        "            if value > bestValue:\n",
        "                bestValue = value\n",
        "                bestMove = move\n",
        "        else:\n",
        "            if value < bestValue:\n",
        "                bestValue = value\n",
        "                bestMove = move\n",
        "    return (bestMove, bestValue)\n"
      ],
      "metadata": {
        "id": "LqvSN9z3fkUk"
      },
      "execution_count": 5,
      "outputs": []
    },
    {
      "cell_type": "code",
      "source": [
        "#board = chess.Board(\"rnbqkbnr/1p1p1pp1/2p4p/p3p1N1/2B1P3/8/PPPP1PPP/RNBQK2R w KQkq - 0 5\")\n",
        "board = chess.Board()\n",
        "\n",
        "#print(getNextMove(4, board, True))\n",
        "board.push_san(\"e4\")\n",
        "board.push_san(\"e5\")\n",
        "board.push_san(\"Qh5\")\n",
        "board.push_san(\"Nc6\")\n",
        "board.push_san(\"Bc4\")\n",
        "board.push_san(\"Nf6\")"
      ],
      "metadata": {
        "colab": {
          "base_uri": "https://localhost:8080/"
        },
        "id": "zH1EuDIcfkXK",
        "outputId": "33e758cc-213d-4846-d90a-12904633aa89"
      },
      "execution_count": 6,
      "outputs": [
        {
          "output_type": "execute_result",
          "data": {
            "text/plain": [
              "Move.from_uci('g8f6')"
            ]
          },
          "metadata": {},
          "execution_count": 6
        }
      ]
    },
    {
      "cell_type": "code",
      "source": [
        "print(getNextMove(4, board, True))"
      ],
      "metadata": {
        "colab": {
          "base_uri": "https://localhost:8080/"
        },
        "id": "DEaVLWJRfkZy",
        "outputId": "f46f507f-f7f7-41d4-918e-2534f97771d0"
      },
      "execution_count": 7,
      "outputs": [
        {
          "output_type": "stream",
          "name": "stdout",
          "text": [
            "(Move.from_uci('h5f7'), 1000000)\n"
          ]
        }
      ]
    },
    {
      "cell_type": "code",
      "source": [
        "print(NODECOUNT)\n",
        "\n",
        "\n",
        "\"\"\"\n",
        "print(board)\n",
        "print(\"white, initial\")\n",
        "print(eval(board))\n",
        "\n",
        "board.push(chess.Move.from_uci(\"g1f3\"))\n",
        "print(\"black initial\")\n",
        "print(eval(board))\n",
        "\n",
        "board.push(chess.Move.from_uci(\"e7e5\"))\n",
        "print(\"white after e7e5\")\n",
        "print(eval(board))\n",
        "\n",
        "\n",
        "board.push(chess.Move.from_uci(\"e2e4\"))\n",
        "print(eval(board))\n",
        "\"\"\""
      ],
      "metadata": {
        "colab": {
          "base_uri": "https://localhost:8080/",
          "height": 70
        },
        "id": "3NnA_NcafkdM",
        "outputId": "29621d1b-79ef-4cae-832a-4c4c3b833e67"
      },
      "execution_count": 8,
      "outputs": [
        {
          "output_type": "stream",
          "name": "stdout",
          "text": [
            "119034\n"
          ]
        },
        {
          "output_type": "execute_result",
          "data": {
            "application/vnd.google.colaboratory.intrinsic+json": {
              "type": "string"
            },
            "text/plain": [
              "'\\nprint(board)\\nprint(\"white, initial\")\\nprint(eval(board))\\n\\nboard.push(chess.Move.from_uci(\"g1f3\"))\\nprint(\"black initial\")\\nprint(eval(board))\\n\\nboard.push(chess.Move.from_uci(\"e7e5\"))\\nprint(\"white after e7e5\")\\nprint(eval(board))\\n\\n\\nboard.push(chess.Move.from_uci(\"e2e4\"))\\nprint(eval(board))\\n'"
            ]
          },
          "metadata": {},
          "execution_count": 8
        }
      ]
    }
  ]
}