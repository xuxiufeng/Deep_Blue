{
  "nbformat": 4,
  "nbformat_minor": 0,
  "metadata": {
    "colab": {
      "name": "Minimax.ipynb",
      "provenance": [],
      "toc_visible": true,
      "authorship_tag": "ABX9TyMgxrktr0x4XihsNYZpO5m4",
      "include_colab_link": true
    },
    "kernelspec": {
      "name": "python3",
      "display_name": "Python 3"
    },
    "language_info": {
      "name": "python"
    }
  },
  "cells": [
    {
      "cell_type": "markdown",
      "metadata": {
        "id": "view-in-github",
        "colab_type": "text"
      },
      "source": [
        "<a href=\"https://colab.research.google.com/github/xuxiufeng/Deep_Blue/blob/main/Minimax.ipynb\" target=\"_parent\"><img src=\"https://colab.research.google.com/assets/colab-badge.svg\" alt=\"Open In Colab\"/></a>"
      ]
    },
    {
      "cell_type": "code",
      "execution_count": 8,
      "metadata": {
        "id": "XESvFQFAcTY_"
      },
      "outputs": [],
      "source": [
        "import chess"
      ]
    },
    {
      "cell_type": "code",
      "source": [
        "# P = 100\n",
        "# N = 310\n",
        "# B = 320\n",
        "# R = 500\n",
        "# Q = 900\n",
        "\n",
        "# position table\n",
        "pieceSquareTable = [\n",
        "  [ -50,-40,-30,-30,-30,-30,-40,-50 ],\n",
        "  [ -40,-20,  0,  0,  0,  0,-20,-40 ],\n",
        "  [ -30,  0, 10, 15, 15, 10,  0,-30 ],\n",
        "  [ -30,  5, 15, 20, 20, 15,  5,-30 ],\n",
        "  [ -30,  0, 15, 20, 20, 15,  0,-30 ],\n",
        "  [ -30,  5, 10, 15, 15, 10,  5,-30 ],\n",
        "  [ -40,-20,  0,  5,  5,  0,-20,-40 ],\n",
        "  [ -50,-40,-30,-30,-30,-30,-40,-50 ] ]"
      ],
      "metadata": {
        "id": "Mi57gF6ccuJN"
      },
      "execution_count": 9,
      "outputs": []
    },
    {
      "cell_type": "code",
      "source": [
        "def eval(board):\n",
        "    scoreWhite = 0\n",
        "    scoreBlack = 0\n",
        "    for i in range(0,8):\n",
        "        for j in range(0,8):\n",
        "            squareIJ = chess.square(i,j)\n",
        "            pieceIJ = board.piece_at(squareIJ)\n",
        "            if str(pieceIJ) == \"P\":\n",
        "                scoreWhite += (100 + pieceSquareTable[i][j])\n",
        "            if str(pieceIJ) == \"N\":\n",
        "                scoreWhite += (310 + pieceSquareTable[i][j])\n",
        "            if str(pieceIJ) == \"B\":\n",
        "                scoreWhite += (320 + pieceSquareTable[i][j])\n",
        "            if str(pieceIJ) == \"R\":\n",
        "                scoreWhite += (500 + pieceSquareTable[i][j])\n",
        "            if str(pieceIJ) == \"Q\":\n",
        "                scoreWhite += (900 + pieceSquareTable[i][j])\n",
        "            if str(pieceIJ) == \"p\":\n",
        "                scoreBlack += (100 + pieceSquareTable[i][j])\n",
        "            if str(pieceIJ) == \"n\":\n",
        "                scoreBlack += (310 + pieceSquareTable[i][j])\n",
        "            if str(pieceIJ) == \"b\":\n",
        "                scoreBlack += (320 + pieceSquareTable[i][j])\n",
        "            if str(pieceIJ) == \"r\":\n",
        "                scoreBlack += (500 + pieceSquareTable[i][j])\n",
        "            if str(pieceIJ) == \"q\":\n",
        "                scoreBlack += (900 + pieceSquareTable[i][j])\n",
        "    return scoreWhite - scoreBlack\n",
        "\n",
        "\"\"\"\n",
        "function alphabeta(node, depth, α, β, maximizingPlayer) is\n",
        "    if depth = 0 or node is a terminal node then\n",
        "        return the heuristic value of node\n",
        "    if maximizingPlayer then\n",
        "        value := −∞\n",
        "        for each child of node do\n",
        "            value := max(value, alphabeta(child, depth − 1, α, β, FALSE))\n",
        "            α := max(α, value)\n",
        "            if α ≥ β then\n",
        "                break (* β cutoff *)\n",
        "        return value\n",
        "    else\n",
        "        value := +∞\n",
        "        for each child of node do\n",
        "            value := min(value, alphabeta(child, depth − 1, α, β, TRUE))\n",
        "            β := min(β, value)\n",
        "            if β ≤ α then\n",
        "                break (* α cutoff *)\n",
        "        return value\n",
        "\"\"\""
      ],
      "metadata": {
        "id": "VJjrHHyPcuBp"
      },
      "execution_count": null,
      "outputs": []
    },
    {
      "cell_type": "code",
      "source": [
        "NODECOUNT = 0\n",
        "\n",
        "def minimax(board, depth, maximize):\n",
        "    global NODECOUNT\n",
        "    if(board.is_checkmate()):\n",
        "        if(board.turn == chess.WHITE):\n",
        "            return -100000\n",
        "        else:\n",
        "            return 1000000\n",
        "    if(board.is_stalemate()) or board.is_insufficient_material():\n",
        "        return 0\n",
        "    if depth == 0:\n",
        "        return eval(board)\n",
        "    legals = board.legal_moves\n",
        "    if(maximize):\n",
        "        bestVal = -9999\n",
        "        for move in legals:\n",
        "            board.push(move)\n",
        "            NODECOUNT += 1\n",
        "            bestVal = max(bestVal, minimax(board, depth - 1, (not maximize)))\n",
        "            board.pop()\n",
        "        return bestVal\n",
        "    else:\n",
        "        bestVal = 9999\n",
        "        for move in legals:\n",
        "            board.push(move)\n",
        "            NODECOUNT += 1\n",
        "            bestVal = min(bestVal, minimax(board, depth - 1, (not maximize)))\n",
        "            board.pop()\n",
        "        return bestVal"
      ],
      "metadata": {
        "id": "hPSwZ61Lct-_"
      },
      "execution_count": 11,
      "outputs": []
    },
    {
      "cell_type": "code",
      "source": [
        "def getNextMove(depth, board, maximize):\n",
        "\n",
        "    legals = board.legal_moves\n",
        "    bestMove = None\n",
        "    bestValue = -9999\n",
        "    if(not maximize):\n",
        "        bestValue = 9999\n",
        "    for move in legals:\n",
        "        board.push(move)\n",
        "        value = minimax(board, depth - 1, (not maximize))\n",
        "        board.pop()\n",
        "        if maximize:\n",
        "            if value > bestValue:\n",
        "                bestValue = value\n",
        "                bestMove = move\n",
        "        else:\n",
        "            if value < bestValue:\n",
        "                bestValue = value\n",
        "                bestMove = move\n",
        "    return (bestMove, bestValue)\n"
      ],
      "metadata": {
        "id": "TgfNpdosct6s"
      },
      "execution_count": 12,
      "outputs": []
    },
    {
      "cell_type": "code",
      "source": [
        "#board = chess.Board(\"rnbqkbnr/1p1p1pp1/2p4p/p3p1N1/2B1P3/8/PPPP1PPP/RNBQK2R w KQkq - 0 5\")\n",
        "board = chess.Board()\n",
        "\n",
        "#print(getNextMove(4, board, True))\n",
        "board.push_san(\"e4\")\n",
        "board.push_san(\"e5\")\n",
        "board.push_san(\"Qh5\")\n",
        "board.push_san(\"Nc6\")\n",
        "board.push_san(\"Bc4\")\n",
        "board.push_san(\"Nf6\")\n",
        "print(getNextMove(4, board, True))"
      ],
      "metadata": {
        "colab": {
          "base_uri": "https://localhost:8080/"
        },
        "id": "tcF6cosOctyp",
        "outputId": "03343800-a570-4ebf-fa7c-b54478098760"
      },
      "execution_count": 13,
      "outputs": [
        {
          "output_type": "stream",
          "name": "stdout",
          "text": [
            "(Move.from_uci('h5f7'), 1000000)\n"
          ]
        }
      ]
    },
    {
      "cell_type": "code",
      "source": [
        "print(NODECOUNT)\n",
        "\"\"\"\n",
        "print(board)\n",
        "print(\"white, initial\")\n",
        "print(eval(board))\n",
        "\n",
        "board.push(chess.Move.from_uci(\"g1f3\"))\n",
        "print(\"black initial\")\n",
        "print(eval(board))\n",
        "\n",
        "board.push(chess.Move.from_uci(\"e7e5\"))\n",
        "print(\"white after e7e5\")\n",
        "print(eval(board))\n",
        "\n",
        "\n",
        "board.push(chess.Move.from_uci(\"e2e4\"))\n",
        "print(eval(board))\n",
        "\"\"\""
      ],
      "metadata": {
        "colab": {
          "base_uri": "https://localhost:8080/",
          "height": 70
        },
        "id": "nBypUKcYf3xd",
        "outputId": "312103ac-5490-435b-9526-babe17e2d8c7"
      },
      "execution_count": 14,
      "outputs": [
        {
          "output_type": "stream",
          "name": "stdout",
          "text": [
            "1337211\n"
          ]
        },
        {
          "output_type": "execute_result",
          "data": {
            "application/vnd.google.colaboratory.intrinsic+json": {
              "type": "string"
            },
            "text/plain": [
              "'\\nprint(board)\\nprint(\"white, initial\")\\nprint(eval(board))\\n\\nboard.push(chess.Move.from_uci(\"g1f3\"))\\nprint(\"black initial\")\\nprint(eval(board))\\n\\nboard.push(chess.Move.from_uci(\"e7e5\"))\\nprint(\"white after e7e5\")\\nprint(eval(board))\\n\\n\\nboard.push(chess.Move.from_uci(\"e2e4\"))\\nprint(eval(board))\\n'"
            ]
          },
          "metadata": {},
          "execution_count": 14
        }
      ]
    }
  ]
}